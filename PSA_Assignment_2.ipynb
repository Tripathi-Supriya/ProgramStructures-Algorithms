{
 "cells": [
  {
   "cell_type": "code",
   "execution_count": 62,
   "id": "a6cd6c72",
   "metadata": {},
   "outputs": [],
   "source": [
    "# **PSA ASSIGNMENT 2**"
   ]
  },
  {
   "cell_type": "code",
   "execution_count": null,
   "id": "47ac7f90",
   "metadata": {},
   "outputs": [],
   "source": [
    "#Q1: Examples for Divide and Conquer Algoritm"
   ]
  },
  {
   "cell_type": "code",
   "execution_count": 24,
   "id": "02643e9e",
   "metadata": {},
   "outputs": [
    {
     "name": "stdout",
     "output_type": "stream",
     "text": [
      "[-986, -8, 3, 6, 33, 98, 99, 198, 5635]\n"
     ]
    }
   ],
   "source": [
    "#Q1 Example 1: Merge Sort\n",
    "\n",
    "def mergeSort(myList):\n",
    "    if len(myList) > 1:\n",
    "        mid = len(myList) // 2\n",
    "        left = myList[:mid]\n",
    "        right = myList[mid:]\n",
    "\n",
    "        # Recursive call on each half\n",
    "        mergeSort(left)\n",
    "        mergeSort(right)\n",
    "\n",
    "        # Two iterators for traversing the two halves\n",
    "        i = 0\n",
    "        j = 0\n",
    "        \n",
    "        # Iterator for the main list\n",
    "        k = 0\n",
    "        \n",
    "        while i < len(left) and j < len(right):\n",
    "            if left[i] <= right[j]:\n",
    "              # The value from the left half has been used\n",
    "              myList[k] = left[i]\n",
    "              # Move the iterator forward\n",
    "              i += 1\n",
    "            else:\n",
    "                myList[k] = right[j]\n",
    "                j += 1\n",
    "            # Move to the next slot\n",
    "            k += 1\n",
    "\n",
    "        # For all the remaining values\n",
    "        while i < len(left):\n",
    "            myList[k] = left[i]\n",
    "            i += 1\n",
    "            k += 1\n",
    "\n",
    "        while j < len(right):\n",
    "            myList[k]=right[j]\n",
    "            j += 1\n",
    "            k += 1\n",
    "\n",
    "myList = [33,99,-8,3,6,198,-986,5635,98]\n",
    "mergeSort(myList)\n",
    "print(myList)\n"
   ]
  },
  {
   "cell_type": "code",
   "execution_count": 47,
   "id": "680c4547",
   "metadata": {},
   "outputs": [
    {
     "name": "stdout",
     "output_type": "stream",
     "text": [
      "Element is present at index 6\n",
      "Element is present at index 1\n",
      "Element is not present in list\n"
     ]
    }
   ],
   "source": [
    "#Q1-Example 2: Binary Search\n",
    "\n",
    "def binary_search(list1, n):  \n",
    "    low = 0  \n",
    "    high = len(list1) - 1  \n",
    "    mid = 0  \n",
    "  \n",
    "    while low <= high:  \n",
    "        # for get integer result   \n",
    "        mid = (high + low) // 2  \n",
    "  \n",
    "        # Check if n is present at mid   \n",
    "        if list1[mid] < n:  \n",
    "            low = mid + 1  \n",
    "  \n",
    "        # If n is greater, compare to the right of mid   \n",
    "        elif list1[mid] > n:  \n",
    "            high = mid - 1  \n",
    "  \n",
    "        # If n is smaller, compared to the left of mid  \n",
    "        else:  \n",
    "            return print(\"Element is present at index\", str(mid))\n",
    "  \n",
    "            # element was not present in the list, return -1  \n",
    "    return print(\"Element is not present in list\")\n",
    "  \n",
    "# Initial list1  \n",
    "list1 = [12, 24, 32, 39, 45, 50, 54]  \n",
    "n = 54\n",
    "\n",
    "# Function call   \n",
    "result = binary_search(list1, n)  \n",
    "\n",
    "# Initial list2\n",
    "list2=[-5,-1, 6,8,9, 15]\n",
    "n = -1\n",
    "\n",
    "# Function call   \n",
    "result = binary_search(list2, n)  \n",
    "\n",
    "n=-3 \n",
    "# Function call   \n",
    "result = binary_search(list2, n)  "
   ]
  },
  {
   "cell_type": "code",
   "execution_count": null,
   "id": "6bb375ea",
   "metadata": {},
   "outputs": [],
   "source": [
    "#Q2: Kruskal's Algorithm"
   ]
  },
  {
   "cell_type": "code",
   "execution_count": 78,
   "id": "a4d3a69d",
   "metadata": {},
   "outputs": [
    {
     "name": "stdout",
     "output_type": "stream",
     "text": [
      "1 - 6: 10\n",
      "3 - 4: 12\n",
      "2 - 7: 14\n",
      "2 - 3: 16\n",
      "4 - 5: 22\n",
      "5 - 6: 25\n"
     ]
    }
   ],
   "source": [
    "# Kruskal's algorithm: Python\n",
    "\n",
    "\n",
    "class Graph:\n",
    "    def __init__(self, vertices):\n",
    "        self.V = vertices\n",
    "        self.graph = []\n",
    "\n",
    "    def add_edge(self, u, v, w):\n",
    "        self.graph.append([u, v, w])\n",
    "\n",
    "    # Search function\n",
    "\n",
    "    def find(self, parent, i):\n",
    "        if parent[i] == i:\n",
    "            return i\n",
    "        return self.find(parent, parent[i])\n",
    "\n",
    "    def apply_union(self, parent, rank, x, y):\n",
    "        xroot = self.find(parent, x)\n",
    "        yroot = self.find(parent, y)\n",
    "        if rank[xroot] < rank[yroot]:\n",
    "            parent[xroot] = yroot\n",
    "        elif rank[xroot] > rank[yroot]:\n",
    "            parent[yroot] = xroot\n",
    "        else:\n",
    "            parent[yroot] = xroot\n",
    "            rank[xroot] += 1\n",
    "\n",
    "    #  Applying Kruskal algorithm\n",
    "    def kruskal_algo(self):\n",
    "        result = []\n",
    "        i, e = 0, 0\n",
    "        self.graph = sorted(self.graph, key=lambda item: item[2])\n",
    "        parent = []\n",
    "        rank = []\n",
    "        for node in range(self.V):\n",
    "            parent.append(node)\n",
    "            rank.append(0)\n",
    "        while e < self.V - 1:\n",
    "            u, v, w = self.graph[i]\n",
    "            i = i + 1\n",
    "            x = self.find(parent, u)\n",
    "            y = self.find(parent, v)\n",
    "            if x != y:\n",
    "                e = e + 1\n",
    "                result.append([u, v, w])\n",
    "                self.apply_union(parent, rank, x, y)\n",
    "        for u, v, weight in result:\n",
    "            print(\"%d - %d: %d\" % (u+1, v+1, weight))\n",
    "\n",
    "\n",
    "g = Graph(7)\n",
    "g.add_edge(0, 1, 28)\n",
    "g.add_edge(0, 5, 10)\n",
    "g.add_edge(1, 2, 16)\n",
    "g.add_edge(1, 6, 14)\n",
    "g.add_edge(2, 3, 12)\n",
    "g.add_edge(3, 6, 18)\n",
    "g.add_edge(3, 4, 22)\n",
    "g.add_edge(4, 6, 24)\n",
    "g.add_edge(4, 5, 25)\n",
    "g.kruskal_algo()"
   ]
  },
  {
   "cell_type": "code",
   "execution_count": 64,
   "id": "63723781",
   "metadata": {},
   "outputs": [],
   "source": [
    "#Q4] Given the five intervals below, and their associated values; \n",
    "#select a subset of non-overlapping intervals with the maximum combined value. \n",
    "#Use dynamic programming."
   ]
  },
  {
   "cell_type": "code",
   "execution_count": 71,
   "id": "a0279c3c",
   "metadata": {},
   "outputs": [
    {
     "name": "stdout",
     "output_type": "stream",
     "text": [
      "[0, 0, 0, 0, 0, 0, 0, 0, 0, 0]\n",
      "[0, 0, 2, 0, 0, 0, 0, 0, 0, 0]\n",
      "[0, 0, 2, 2, 0, 0, 0, 0, 0, 0]\n",
      "[0, 0, 2, 2, 4, 0, 0, 0, 0, 0]\n",
      "[0, 0, 2, 2, 4, 5, 0, 0, 0, 0]\n",
      "[0, 0, 2, 2, 4, 5, 6, 0, 0, 0]\n",
      "[0, 0, 2, 2, 4, 5, 6, 6, 0, 0]\n",
      "[0, 0, 2, 2, 4, 5, 6, 6, 8, 0]\n",
      "[0, 0, 2, 2, 4, 5, 6, 6, 8, 8]\n",
      "combined weight is  8\n"
     ]
    }
   ],
   "source": [
    "# Python3 program for the above approach\n",
    "def findFreeinterval(arr, N):\n",
    "    MAX=9 # max length of x axis\n",
    "    dp = [0]*10\n",
    "    ans = 0\n",
    "    for i in range(1,MAX+1):\n",
    "        # who all ends at i i.e all int with [x,i]\n",
    "        endsHereInts = []\n",
    "        for z in range(len(arr)):\n",
    "            if arr[z][1] == i:\n",
    "                endsHereInts.append(arr[z])\n",
    "        # print(\"--->\",endsHereInts)\n",
    "        dp[i] = dp[i-1]\n",
    "        for x,y in endsHereInts:\n",
    "            # y will be euqal to i\n",
    "            dp[y] = max(ans, dp[y-1], (y-x) + dp[x])\n",
    "        \n",
    "        \n",
    "        ans = max(ans, dp[i])\n",
    "        print(dp)\n",
    "    print(\"combined weight is \",ans)\n",
    "\n",
    "\n",
    "# Given List of intervals\n",
    "arr = [ [ 0, 2 ], [ 0, 4 ],[ 2, 5 ], [ 4, 6 ],[5, 8] ]\n",
    "\n",
    "# arr.sort(key=lambda x:x[1])\n",
    "N = len(arr)\n",
    "\n",
    "# Function call\n",
    "findFreeinterval(arr, N)\n"
   ]
  },
  {
   "cell_type": "code",
   "execution_count": null,
   "id": "d3b53392",
   "metadata": {},
   "outputs": [],
   "source": [
    "#Q5: KnapSack Problem"
   ]
  },
  {
   "cell_type": "code",
   "execution_count": 51,
   "id": "b7fbaf69",
   "metadata": {},
   "outputs": [
    {
     "name": "stdout",
     "output_type": "stream",
     "text": [
      "12\n"
     ]
    }
   ],
   "source": [
    "# A Dynamic Programming based Python\n",
    "# Program for 0-1 Knapsack problem\n",
    "# Returns the maximum value that can\n",
    "# be put in a knapsack of capacity W\n",
    "def knapSack(W, wt, val, n):\n",
    "    K = [[0 for x in range(W + 1)] for x in range(n + 1)]\n",
    "\n",
    "# Build table K[][] in bottom up manner\n",
    "    for i in range(n + 1):\n",
    "        for w in range(W + 1):\n",
    "            if i == 0 or w == 0:\n",
    "                K[i][w] = 0\n",
    "            elif wt[i-1] <= w:\n",
    "                K[i][w] = max(val[i-1] + K[i-1][w-wt[i-1]], K[i-1][w])\n",
    "            else:\n",
    "                K[i][w] = K[i-1][w]\n",
    "\n",
    "    return K[n][W]\n",
    "\n",
    "# Driver program to test above function\n",
    "val = [5,3,2,4,1]\n",
    "wt = [5,1,3,4,3]\n",
    "W = 10\n",
    "n = len(val)\n",
    "print(knapSack(W, wt, val, n))\n"
   ]
  },
  {
   "cell_type": "code",
   "execution_count": 72,
   "id": "918cda9b",
   "metadata": {},
   "outputs": [
    {
     "name": "stdout",
     "output_type": "stream",
     "text": [
      "5\n"
     ]
    }
   ],
   "source": [
    "def find_fixed_point(T):\n",
    "    n = len(T)\n",
    "    left = 0\n",
    "    right = n - 1\n",
    "\n",
    "    while left <= right:\n",
    "        mid = (left + right) // 2\n",
    "        if T[mid] == mid:\n",
    "            return mid\n",
    "        elif T[mid] < mid:\n",
    "            left = mid + 1\n",
    "        else:\n",
    "            right = mid - 1\n",
    "\n",
    "    print(mid)\n",
    "\n",
    "find_fixed_point([4,6,7,8,3,4,62,56,99])"
   ]
  },
  {
   "cell_type": "code",
   "execution_count": null,
   "id": "4cabdac3",
   "metadata": {},
   "outputs": [],
   "source": [
    "#Q7] Let’s consider a long, quiet country road with houses scattered very sparsely along it. (We can picture the road as a long line segment, with an eastern endpoint and a western endpoint.) Further, let’s suppose that despite the bucolic setting, the residents of all these houses are avid cell phone users. You want to place cell phone base stations at certain points along the road, so that every house is within six miles of one of the base stations.\n",
    "#Give an efficient algorithm along with pseudo code that achieves this goal, using as few base stations as possible\n"
   ]
  },
  {
   "cell_type": "code",
   "execution_count": 76,
   "id": "c256719c",
   "metadata": {},
   "outputs": [
    {
     "name": "stdout",
     "output_type": "stream",
     "text": [
      "[5, 16, 30, 38, 48, 65, 85, 111, 167, 243]\n"
     ]
    }
   ],
   "source": [
    "def place_base_stations(houses):\n",
    "    houses.sort()\n",
    "    base_stations = []\n",
    "    current_pos = houses[0]\n",
    "    \n",
    "    for house in houses:\n",
    "        if house - current_pos > 6:\n",
    "            base_stations.append(current_pos)\n",
    "            current_pos = house\n",
    "    \n",
    "    base_stations.append(current_pos)\n",
    "    return base_stations\n",
    "\n",
    "houses = [5, 6, 8, 10, 16, 22, 30, 38, 48, 50,51,65, 85, 90, 111, 167, 243, 245]\n",
    "print (place_base_stations(houses))"
   ]
  },
  {
   "cell_type": "code",
   "execution_count": null,
   "id": "35b7fa3b",
   "metadata": {},
   "outputs": [],
   "source": []
  }
 ],
 "metadata": {
  "kernelspec": {
   "display_name": "Python 3 (ipykernel)",
   "language": "python",
   "name": "python3"
  },
  "language_info": {
   "codemirror_mode": {
    "name": "ipython",
    "version": 3
   },
   "file_extension": ".py",
   "mimetype": "text/x-python",
   "name": "python",
   "nbconvert_exporter": "python",
   "pygments_lexer": "ipython3",
   "version": "3.9.12"
  }
 },
 "nbformat": 4,
 "nbformat_minor": 5
}
